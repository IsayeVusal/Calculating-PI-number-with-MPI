{
 "cells": [
  {
   "cell_type": "code",
   "execution_count": null,
   "metadata": {},
   "outputs": [],
   "source": [
    "from __future__ import division\n",
    "from mpi4py import MPI\n",
    "from decimal import *\n",
    "import numpy as np\n",
    "\n",
    "comm = MPI.COMM_WORLD\n",
    "size = comm.Get_size()\n",
    "rank = comm.Get_rank()\n",
    " \n",
    "def BaileyBorweinPlouffe(a,b,c):\n",
    "    getcontext().prec = 100000\n",
    "    pi = Decimal(0)\n",
    "    for k in range (b,c): #Starting and ending point\n",
    "        pi +=  (Decimal(1)/(16**k))*((Decimal(4)/(8*k+1))-(Decimal(2)/(8*k+4))-(Decimal(1)/(8*k+5))-(Decimal(1)/(8*k+6)))\n",
    "    return pi\n",
    "\n",
    "def main():\n",
    "    a=10\n",
    "    vp=int(a/size)\n",
    "    startindex=rank*vp\n",
    "    endindex=(rank+1)*vp #formula to calculate limits\n",
    "    recvdata= Decimal(0)\n",
    "    root=0\n",
    "    op=MPI.SUM\n",
    "               \n",
    "    New_pi = BaileyBorweinPlouffe(a,startindex,endindex )\n",
    "    recvdata=comm.reduce (New_pi,root=root,op=op)\n",
    "    if (rank==0):\n",
    "        print (recvdata)\n",
    "         \n",
    "main() #calling the main function"
   ]
  },
  {
   "cell_type": "code",
   "execution_count": null,
   "metadata": {
    "collapsed": true
   },
   "outputs": [],
   "source": []
  },
  {
   "cell_type": "code",
   "execution_count": null,
   "metadata": {
    "collapsed": true
   },
   "outputs": [],
   "source": []
  }
 ],
 "metadata": {
  "kernelspec": {
   "display_name": "Python 3",
   "language": "python",
   "name": "python3"
  },
  "language_info": {
   "codemirror_mode": {
    "name": "ipython",
    "version": 3
   },
   "file_extension": ".py",
   "mimetype": "text/x-python",
   "name": "python",
   "nbconvert_exporter": "python",
   "pygments_lexer": "ipython3",
   "version": "3.6.4"
  }
 },
 "nbformat": 4,
 "nbformat_minor": 2
}
